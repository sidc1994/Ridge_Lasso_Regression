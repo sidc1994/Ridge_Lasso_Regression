{
 "cells": [
  {
   "cell_type": "code",
   "execution_count": 920,
   "id": "c4777a0f",
   "metadata": {},
   "outputs": [],
   "source": [
    "#IMPORT LIBRARIES\n",
    "import pandas as pd\n",
    "import numpy as np\n",
    "import matplotlib.pyplot as plt\n",
    "import seaborn as sns"
   ]
  },
  {
   "cell_type": "code",
   "execution_count": 921,
   "id": "dabd667c",
   "metadata": {},
   "outputs": [],
   "source": [
    "#READING CSV FILE\n",
    "data = pd.read_csv(r\"D:\\Siddharth Upgrad\\Case Study\\8. Housing market\\train.csv\")"
   ]
  },
  {
   "cell_type": "code",
   "execution_count": 922,
   "id": "85fe963b",
   "metadata": {
    "scrolled": false
   },
   "outputs": [
    {
     "data": {
      "text/html": [
       "<div>\n",
       "<style scoped>\n",
       "    .dataframe tbody tr th:only-of-type {\n",
       "        vertical-align: middle;\n",
       "    }\n",
       "\n",
       "    .dataframe tbody tr th {\n",
       "        vertical-align: top;\n",
       "    }\n",
       "\n",
       "    .dataframe thead th {\n",
       "        text-align: right;\n",
       "    }\n",
       "</style>\n",
       "<table border=\"1\" class=\"dataframe\">\n",
       "  <thead>\n",
       "    <tr style=\"text-align: right;\">\n",
       "      <th></th>\n",
       "      <th>Id</th>\n",
       "      <th>MSSubClass</th>\n",
       "      <th>MSZoning</th>\n",
       "      <th>LotFrontage</th>\n",
       "      <th>LotArea</th>\n",
       "      <th>Street</th>\n",
       "      <th>Alley</th>\n",
       "      <th>LotShape</th>\n",
       "      <th>LandContour</th>\n",
       "      <th>Utilities</th>\n",
       "      <th>...</th>\n",
       "      <th>PoolArea</th>\n",
       "      <th>PoolQC</th>\n",
       "      <th>Fence</th>\n",
       "      <th>MiscFeature</th>\n",
       "      <th>MiscVal</th>\n",
       "      <th>MoSold</th>\n",
       "      <th>YrSold</th>\n",
       "      <th>SaleType</th>\n",
       "      <th>SaleCondition</th>\n",
       "      <th>SalePrice</th>\n",
       "    </tr>\n",
       "  </thead>\n",
       "  <tbody>\n",
       "    <tr>\n",
       "      <th>0</th>\n",
       "      <td>1</td>\n",
       "      <td>60</td>\n",
       "      <td>RL</td>\n",
       "      <td>65.0</td>\n",
       "      <td>8450</td>\n",
       "      <td>Pave</td>\n",
       "      <td>NaN</td>\n",
       "      <td>Reg</td>\n",
       "      <td>Lvl</td>\n",
       "      <td>AllPub</td>\n",
       "      <td>...</td>\n",
       "      <td>0</td>\n",
       "      <td>NaN</td>\n",
       "      <td>NaN</td>\n",
       "      <td>NaN</td>\n",
       "      <td>0</td>\n",
       "      <td>2</td>\n",
       "      <td>2008</td>\n",
       "      <td>WD</td>\n",
       "      <td>Normal</td>\n",
       "      <td>208500</td>\n",
       "    </tr>\n",
       "    <tr>\n",
       "      <th>1</th>\n",
       "      <td>2</td>\n",
       "      <td>20</td>\n",
       "      <td>RL</td>\n",
       "      <td>80.0</td>\n",
       "      <td>9600</td>\n",
       "      <td>Pave</td>\n",
       "      <td>NaN</td>\n",
       "      <td>Reg</td>\n",
       "      <td>Lvl</td>\n",
       "      <td>AllPub</td>\n",
       "      <td>...</td>\n",
       "      <td>0</td>\n",
       "      <td>NaN</td>\n",
       "      <td>NaN</td>\n",
       "      <td>NaN</td>\n",
       "      <td>0</td>\n",
       "      <td>5</td>\n",
       "      <td>2007</td>\n",
       "      <td>WD</td>\n",
       "      <td>Normal</td>\n",
       "      <td>181500</td>\n",
       "    </tr>\n",
       "    <tr>\n",
       "      <th>2</th>\n",
       "      <td>3</td>\n",
       "      <td>60</td>\n",
       "      <td>RL</td>\n",
       "      <td>68.0</td>\n",
       "      <td>11250</td>\n",
       "      <td>Pave</td>\n",
       "      <td>NaN</td>\n",
       "      <td>IR1</td>\n",
       "      <td>Lvl</td>\n",
       "      <td>AllPub</td>\n",
       "      <td>...</td>\n",
       "      <td>0</td>\n",
       "      <td>NaN</td>\n",
       "      <td>NaN</td>\n",
       "      <td>NaN</td>\n",
       "      <td>0</td>\n",
       "      <td>9</td>\n",
       "      <td>2008</td>\n",
       "      <td>WD</td>\n",
       "      <td>Normal</td>\n",
       "      <td>223500</td>\n",
       "    </tr>\n",
       "    <tr>\n",
       "      <th>3</th>\n",
       "      <td>4</td>\n",
       "      <td>70</td>\n",
       "      <td>RL</td>\n",
       "      <td>60.0</td>\n",
       "      <td>9550</td>\n",
       "      <td>Pave</td>\n",
       "      <td>NaN</td>\n",
       "      <td>IR1</td>\n",
       "      <td>Lvl</td>\n",
       "      <td>AllPub</td>\n",
       "      <td>...</td>\n",
       "      <td>0</td>\n",
       "      <td>NaN</td>\n",
       "      <td>NaN</td>\n",
       "      <td>NaN</td>\n",
       "      <td>0</td>\n",
       "      <td>2</td>\n",
       "      <td>2006</td>\n",
       "      <td>WD</td>\n",
       "      <td>Abnorml</td>\n",
       "      <td>140000</td>\n",
       "    </tr>\n",
       "    <tr>\n",
       "      <th>4</th>\n",
       "      <td>5</td>\n",
       "      <td>60</td>\n",
       "      <td>RL</td>\n",
       "      <td>84.0</td>\n",
       "      <td>14260</td>\n",
       "      <td>Pave</td>\n",
       "      <td>NaN</td>\n",
       "      <td>IR1</td>\n",
       "      <td>Lvl</td>\n",
       "      <td>AllPub</td>\n",
       "      <td>...</td>\n",
       "      <td>0</td>\n",
       "      <td>NaN</td>\n",
       "      <td>NaN</td>\n",
       "      <td>NaN</td>\n",
       "      <td>0</td>\n",
       "      <td>12</td>\n",
       "      <td>2008</td>\n",
       "      <td>WD</td>\n",
       "      <td>Normal</td>\n",
       "      <td>250000</td>\n",
       "    </tr>\n",
       "  </tbody>\n",
       "</table>\n",
       "<p>5 rows × 81 columns</p>\n",
       "</div>"
      ],
      "text/plain": [
       "   Id  MSSubClass MSZoning  LotFrontage  LotArea Street Alley LotShape  \\\n",
       "0   1          60       RL         65.0     8450   Pave   NaN      Reg   \n",
       "1   2          20       RL         80.0     9600   Pave   NaN      Reg   \n",
       "2   3          60       RL         68.0    11250   Pave   NaN      IR1   \n",
       "3   4          70       RL         60.0     9550   Pave   NaN      IR1   \n",
       "4   5          60       RL         84.0    14260   Pave   NaN      IR1   \n",
       "\n",
       "  LandContour Utilities  ... PoolArea PoolQC Fence MiscFeature MiscVal MoSold  \\\n",
       "0         Lvl    AllPub  ...        0    NaN   NaN         NaN       0      2   \n",
       "1         Lvl    AllPub  ...        0    NaN   NaN         NaN       0      5   \n",
       "2         Lvl    AllPub  ...        0    NaN   NaN         NaN       0      9   \n",
       "3         Lvl    AllPub  ...        0    NaN   NaN         NaN       0      2   \n",
       "4         Lvl    AllPub  ...        0    NaN   NaN         NaN       0     12   \n",
       "\n",
       "  YrSold  SaleType  SaleCondition  SalePrice  \n",
       "0   2008        WD         Normal     208500  \n",
       "1   2007        WD         Normal     181500  \n",
       "2   2008        WD         Normal     223500  \n",
       "3   2006        WD        Abnorml     140000  \n",
       "4   2008        WD         Normal     250000  \n",
       "\n",
       "[5 rows x 81 columns]"
      ]
     },
     "execution_count": 922,
     "metadata": {},
     "output_type": "execute_result"
    }
   ],
   "source": [
    "#CHECKING DATA ON FILE\n",
    "data.head()"
   ]
  },
  {
   "cell_type": "code",
   "execution_count": 923,
   "id": "ef538534",
   "metadata": {},
   "outputs": [
    {
     "name": "stdout",
     "output_type": "stream",
     "text": [
      "<class 'pandas.core.frame.DataFrame'>\n",
      "RangeIndex: 1460 entries, 0 to 1459\n",
      "Data columns (total 81 columns):\n",
      " #   Column         Non-Null Count  Dtype  \n",
      "---  ------         --------------  -----  \n",
      " 0   Id             1460 non-null   int64  \n",
      " 1   MSSubClass     1460 non-null   int64  \n",
      " 2   MSZoning       1460 non-null   object \n",
      " 3   LotFrontage    1201 non-null   float64\n",
      " 4   LotArea        1460 non-null   int64  \n",
      " 5   Street         1460 non-null   object \n",
      " 6   Alley          91 non-null     object \n",
      " 7   LotShape       1460 non-null   object \n",
      " 8   LandContour    1460 non-null   object \n",
      " 9   Utilities      1460 non-null   object \n",
      " 10  LotConfig      1460 non-null   object \n",
      " 11  LandSlope      1460 non-null   object \n",
      " 12  Neighborhood   1460 non-null   object \n",
      " 13  Condition1     1460 non-null   object \n",
      " 14  Condition2     1460 non-null   object \n",
      " 15  BldgType       1460 non-null   object \n",
      " 16  HouseStyle     1460 non-null   object \n",
      " 17  OverallQual    1460 non-null   int64  \n",
      " 18  OverallCond    1460 non-null   int64  \n",
      " 19  YearBuilt      1460 non-null   int64  \n",
      " 20  YearRemodAdd   1460 non-null   int64  \n",
      " 21  RoofStyle      1460 non-null   object \n",
      " 22  RoofMatl       1460 non-null   object \n",
      " 23  Exterior1st    1460 non-null   object \n",
      " 24  Exterior2nd    1460 non-null   object \n",
      " 25  MasVnrType     1452 non-null   object \n",
      " 26  MasVnrArea     1452 non-null   float64\n",
      " 27  ExterQual      1460 non-null   object \n",
      " 28  ExterCond      1460 non-null   object \n",
      " 29  Foundation     1460 non-null   object \n",
      " 30  BsmtQual       1423 non-null   object \n",
      " 31  BsmtCond       1423 non-null   object \n",
      " 32  BsmtExposure   1422 non-null   object \n",
      " 33  BsmtFinType1   1423 non-null   object \n",
      " 34  BsmtFinSF1     1460 non-null   int64  \n",
      " 35  BsmtFinType2   1422 non-null   object \n",
      " 36  BsmtFinSF2     1460 non-null   int64  \n",
      " 37  BsmtUnfSF      1460 non-null   int64  \n",
      " 38  TotalBsmtSF    1460 non-null   int64  \n",
      " 39  Heating        1460 non-null   object \n",
      " 40  HeatingQC      1460 non-null   object \n",
      " 41  CentralAir     1460 non-null   object \n",
      " 42  Electrical     1459 non-null   object \n",
      " 43  1stFlrSF       1460 non-null   int64  \n",
      " 44  2ndFlrSF       1460 non-null   int64  \n",
      " 45  LowQualFinSF   1460 non-null   int64  \n",
      " 46  GrLivArea      1460 non-null   int64  \n",
      " 47  BsmtFullBath   1460 non-null   int64  \n",
      " 48  BsmtHalfBath   1460 non-null   int64  \n",
      " 49  FullBath       1460 non-null   int64  \n",
      " 50  HalfBath       1460 non-null   int64  \n",
      " 51  BedroomAbvGr   1460 non-null   int64  \n",
      " 52  KitchenAbvGr   1460 non-null   int64  \n",
      " 53  KitchenQual    1460 non-null   object \n",
      " 54  TotRmsAbvGrd   1460 non-null   int64  \n",
      " 55  Functional     1460 non-null   object \n",
      " 56  Fireplaces     1460 non-null   int64  \n",
      " 57  FireplaceQu    770 non-null    object \n",
      " 58  GarageType     1379 non-null   object \n",
      " 59  GarageYrBlt    1379 non-null   float64\n",
      " 60  GarageFinish   1379 non-null   object \n",
      " 61  GarageCars     1460 non-null   int64  \n",
      " 62  GarageArea     1460 non-null   int64  \n",
      " 63  GarageQual     1379 non-null   object \n",
      " 64  GarageCond     1379 non-null   object \n",
      " 65  PavedDrive     1460 non-null   object \n",
      " 66  WoodDeckSF     1460 non-null   int64  \n",
      " 67  OpenPorchSF    1460 non-null   int64  \n",
      " 68  EnclosedPorch  1460 non-null   int64  \n",
      " 69  3SsnPorch      1460 non-null   int64  \n",
      " 70  ScreenPorch    1460 non-null   int64  \n",
      " 71  PoolArea       1460 non-null   int64  \n",
      " 72  PoolQC         7 non-null      object \n",
      " 73  Fence          281 non-null    object \n",
      " 74  MiscFeature    54 non-null     object \n",
      " 75  MiscVal        1460 non-null   int64  \n",
      " 76  MoSold         1460 non-null   int64  \n",
      " 77  YrSold         1460 non-null   int64  \n",
      " 78  SaleType       1460 non-null   object \n",
      " 79  SaleCondition  1460 non-null   object \n",
      " 80  SalePrice      1460 non-null   int64  \n",
      "dtypes: float64(3), int64(35), object(43)\n",
      "memory usage: 924.0+ KB\n"
     ]
    }
   ],
   "source": [
    "data.info()"
   ]
  },
  {
   "cell_type": "code",
   "execution_count": 924,
   "id": "cc2dff1f",
   "metadata": {},
   "outputs": [],
   "source": [
    "#PERFORMING EDA\n",
    "# 1. TAKING RELEVANT DECISIONS ON NA VALUES IN DIFFERENT FIELDS"
   ]
  },
  {
   "cell_type": "code",
   "execution_count": 925,
   "id": "0e1a0098",
   "metadata": {},
   "outputs": [
    {
     "data": {
      "text/plain": [
       "array([ 65.,  80.,  68.,  60.,  84.,  85.,  75.,  nan,  51.,  50.,  70.,\n",
       "        91.,  72.,  66., 101.,  57.,  44., 110.,  98.,  47., 108., 112.,\n",
       "        74., 115.,  61.,  48.,  33.,  52., 100.,  24.,  89.,  63.,  76.,\n",
       "        81.,  95.,  69.,  21.,  32.,  78., 121., 122.,  40., 105.,  73.,\n",
       "        77.,  64.,  94.,  34.,  90.,  55.,  88.,  82.,  71., 120., 107.,\n",
       "        92., 134.,  62.,  86., 141.,  97.,  54.,  41.,  79., 174.,  99.,\n",
       "        67.,  83.,  43., 103.,  93.,  30., 129., 140.,  35.,  37., 118.,\n",
       "        87., 116., 150., 111.,  49.,  96.,  59.,  36.,  56., 102.,  58.,\n",
       "        38., 109., 130.,  53., 137.,  45., 106., 104.,  42.,  39., 144.,\n",
       "       114., 128., 149., 313., 168., 182., 138., 160., 152., 124., 153.,\n",
       "        46.])"
      ]
     },
     "execution_count": 925,
     "metadata": {},
     "output_type": "execute_result"
    }
   ],
   "source": [
    "#data.LotFrontage\n",
    "\n",
    "data.LotFrontage.unique()"
   ]
  },
  {
   "cell_type": "code",
   "execution_count": 926,
   "id": "be8f322f",
   "metadata": {},
   "outputs": [
    {
     "name": "stderr",
     "output_type": "stream",
     "text": [
      "D:\\Siddharth_Python\\lib\\site-packages\\seaborn\\distributions.py:2619: FutureWarning: `distplot` is a deprecated function and will be removed in a future version. Please adapt your code to use either `displot` (a figure-level function with similar flexibility) or `histplot` (an axes-level function for histograms).\n",
      "  warnings.warn(msg, FutureWarning)\n"
     ]
    },
    {
     "data": {
      "image/png": "[encoded data removed]",
      "text/plain": [
       "<Figure size 432x288 with 1 Axes>"
      ]
     },
     "metadata": {
      "needs_background": "light"
     },
     "output_type": "display_data"
    }
   ],
   "source": [
    "sns.distplot(data.LotFrontage,kde=True)\n",
    "plt.show()"
   ]
  },
  {
   "cell_type": "code",
   "execution_count": 927,
   "id": "72071d6d",
   "metadata": {},
   "outputs": [
    {
     "name": "stdout",
     "output_type": "stream",
     "text": [
      "LotFrontage Mean =  70.04995836802665\n",
      "LotFrontage Median =  69.0\n"
     ]
    }
   ],
   "source": [
    "print(\"LotFrontage Mean = \" , data.LotFrontage.mean())\n",
    "print(\"LotFrontage Median = \" , data.LotFrontage.median())"
   ]
  },
  {
   "cell_type": "code",
   "execution_count": 928,
   "id": "30da5419",
   "metadata": {},
   "outputs": [],
   "source": [
    "# Mean and Median values seem close enough indicating non presence of outliers\n",
    "# Replacing nAn values in data.LotFrontage with mean value of 70\n",
    "data.LotFrontage = data.LotFrontage.fillna(70)"
   ]
  },
  {
   "cell_type": "code",
   "execution_count": 929,
   "id": "2e71dbbc",
   "metadata": {},
   "outputs": [],
   "source": [
    "# 2. data.Alley"
   ]
  },
  {
   "cell_type": "code",
   "execution_count": 930,
   "id": "ad4a6943",
   "metadata": {},
   "outputs": [
    {
     "data": {
      "text/plain": [
       "array([nan, 'Grvl', 'Pave'], dtype=object)"
      ]
     },
     "execution_count": 930,
     "metadata": {},
     "output_type": "execute_result"
    }
   ],
   "source": [
    "data.Alley.unique()"
   ]
  },
  {
   "cell_type": "code",
   "execution_count": 931,
   "id": "ca50869e",
   "metadata": {},
   "outputs": [],
   "source": [
    "# Replacing nAn values in data.Alley with keyword \"No Access\"\n",
    "data.Alley = data.Alley.fillna('No_Access')"
   ]
  },
  {
   "cell_type": "code",
   "execution_count": 932,
   "id": "70168047",
   "metadata": {},
   "outputs": [],
   "source": [
    "# 3. data.MasVnrType"
   ]
  },
  {
   "cell_type": "code",
   "execution_count": 933,
   "id": "f51f2e72",
   "metadata": {
    "scrolled": true
   },
   "outputs": [
    {
     "data": {
      "text/plain": [
       "array(['BrkFace', 'None', 'Stone', 'BrkCmn', nan], dtype=object)"
      ]
     },
     "execution_count": 933,
     "metadata": {},
     "output_type": "execute_result"
    }
   ],
   "source": [
    "data.MasVnrType.unique()"
   ]
  },
  {
   "cell_type": "code",
   "execution_count": 934,
   "id": "5b586dff",
   "metadata": {
    "scrolled": false
   },
   "outputs": [
    {
     "data": {
      "text/plain": [
       "None       864\n",
       "BrkFace    445\n",
       "Stone      128\n",
       "BrkCmn      15\n",
       "Name: MasVnrType, dtype: int64"
      ]
     },
     "execution_count": 934,
     "metadata": {},
     "output_type": "execute_result"
    }
   ],
   "source": [
    "data.MasVnrType.value_counts()"
   ]
  },
  {
   "cell_type": "code",
   "execution_count": 935,
   "id": "b5c704fe",
   "metadata": {},
   "outputs": [],
   "source": [
    "#Fill nan values for MasVnrType with \"None\"\n",
    "data.MasVnrType = data.MasVnrType.fillna('None')"
   ]
  },
  {
   "cell_type": "code",
   "execution_count": 936,
   "id": "57e2b520",
   "metadata": {},
   "outputs": [],
   "source": [
    "# 4. data.MasVnrArea"
   ]
  },
  {
   "cell_type": "code",
   "execution_count": 937,
   "id": "04742fe2",
   "metadata": {},
   "outputs": [
    {
     "name": "stdout",
     "output_type": "stream",
     "text": [
      "MasVnrArea Mean =  103.68526170798899\n",
      "MasVnrArea Median =  0.0\n"
     ]
    }
   ],
   "source": [
    "print(\"MasVnrArea Mean = \" , data.MasVnrArea.mean())\n",
    "print(\"MasVnrArea Median = \" , data.MasVnrArea.median())"
   ]
  },
  {
   "cell_type": "code",
   "execution_count": 938,
   "id": "b3f9cd1e",
   "metadata": {
    "scrolled": true
   },
   "outputs": [
    {
     "name": "stderr",
     "output_type": "stream",
     "text": [
      "D:\\Siddharth_Python\\lib\\site-packages\\seaborn\\_decorators.py:36: FutureWarning: Pass the following variable as a keyword arg: x. From version 0.12, the only valid positional argument will be `data`, and passing other arguments without an explicit keyword will result in an error or misinterpretation.\n",
      "  warnings.warn(\n"
     ]
    },
    {
     "data": {
      "text/plain": [
       "<AxesSubplot:xlabel='MasVnrArea'>"
      ]
     },
     "execution_count": 938,
     "metadata": {},
     "output_type": "execute_result"
    },
    {
     "data": {
      "image/png": "[encoded data removed]",
      "text/plain": [
       "<Figure size 432x288 with 1 Axes>"
      ]
     },
     "metadata": {
      "needs_background": "light"
     },
     "output_type": "display_data"
    }
   ],
   "source": [
    "sns.boxplot(data.MasVnrArea)"
   ]
  },
  {
   "cell_type": "code",
   "execution_count": 939,
   "id": "0b2d9dc2",
   "metadata": {},
   "outputs": [],
   "source": [
    "# MasVnrArea has too many outliers also as per definition it has direct corelation with the size of the house\n",
    "# So dropping this columns\n",
    "data = data.drop(columns = 'MasVnrArea')"
   ]
  },
  {
   "cell_type": "code",
   "execution_count": 940,
   "id": "3832b058",
   "metadata": {},
   "outputs": [],
   "source": [
    "# 5. data.BsmtQual"
   ]
  },
  {
   "cell_type": "code",
   "execution_count": 941,
   "id": "6d969593",
   "metadata": {},
   "outputs": [
    {
     "data": {
      "text/plain": [
       "TA    649\n",
       "Gd    618\n",
       "Ex    121\n",
       "Fa     35\n",
       "Name: BsmtQual, dtype: int64"
      ]
     },
     "execution_count": 941,
     "metadata": {},
     "output_type": "execute_result"
    }
   ],
   "source": [
    "data.BsmtQual.value_counts()"
   ]
  },
  {
   "cell_type": "code",
   "execution_count": 942,
   "id": "57c89c77",
   "metadata": {},
   "outputs": [],
   "source": [
    "#data.BsmtQual - Replacing nAn values with \"NA\"\n",
    "data.BsmtQual = data.BsmtQual.fillna('NA')"
   ]
  },
  {
   "cell_type": "code",
   "execution_count": 943,
   "id": "6b0b6479",
   "metadata": {},
   "outputs": [],
   "source": [
    "# 6. data.BsmtCond"
   ]
  },
  {
   "cell_type": "code",
   "execution_count": 944,
   "id": "79bcce1b",
   "metadata": {},
   "outputs": [
    {
     "data": {
      "text/plain": [
       "array(['TA', 'Gd', nan, 'Fa', 'Po'], dtype=object)"
      ]
     },
     "execution_count": 944,
     "metadata": {},
     "output_type": "execute_result"
    }
   ],
   "source": [
    "data.BsmtCond.unique()"
   ]
  },
  {
   "cell_type": "code",
   "execution_count": 945,
   "id": "e285ba13",
   "metadata": {},
   "outputs": [],
   "source": [
    "#data.BsmtCond - Replacing nAn values with \"NA\"\n",
    "data.BsmtCond = data.BsmtCond.fillna('NA')"
   ]
  },
  {
   "cell_type": "code",
   "execution_count": 946,
   "id": "6beb0d91",
   "metadata": {},
   "outputs": [],
   "source": [
    "# 7. data.BsmtCond"
   ]
  },
  {
   "cell_type": "code",
   "execution_count": 947,
   "id": "df8057fe",
   "metadata": {},
   "outputs": [
    {
     "data": {
      "text/plain": [
       "array(['No', 'Gd', 'Mn', 'Av', nan], dtype=object)"
      ]
     },
     "execution_count": 947,
     "metadata": {},
     "output_type": "execute_result"
    }
   ],
   "source": [
    "data.BsmtExposure.unique()"
   ]
  },
  {
   "cell_type": "code",
   "execution_count": 948,
   "id": "ea049e34",
   "metadata": {},
   "outputs": [],
   "source": [
    "#data.BsmtExposure - Replacing nAn values with \"NA\"\n",
    "data.BsmtExposure = data.BsmtExposure.fillna('NA')"
   ]
  },
  {
   "cell_type": "code",
   "execution_count": 949,
   "id": "a940ce64",
   "metadata": {},
   "outputs": [],
   "source": [
    "# 8. data.BsmtFinType1\n",
    "# 9. data.BsmtFinType2"
   ]
  },
  {
   "cell_type": "code",
   "execution_count": 950,
   "id": "cdab0d4f",
   "metadata": {},
   "outputs": [],
   "source": [
    "#data.BsmtFinType1 and data.BsmtFinType2 - Replacing nAn values with \"NA\"\n",
    "data.BsmtFinType1 = data.BsmtFinType1.fillna('NA')\n",
    "data.BsmtFinType2 = data.BsmtFinType2.fillna('NA')"
   ]
  },
  {
   "cell_type": "code",
   "execution_count": 951,
   "id": "ba082562",
   "metadata": {},
   "outputs": [],
   "source": [
    "#10. data.Electrical"
   ]
  },
  {
   "cell_type": "code",
   "execution_count": 952,
   "id": "910355bc",
   "metadata": {},
   "outputs": [
    {
     "data": {
      "text/plain": [
       "SBrkr    1334\n",
       "FuseA      94\n",
       "FuseF      27\n",
       "FuseP       3\n",
       "Mix         1\n",
       "Name: Electrical, dtype: int64"
      ]
     },
     "execution_count": 952,
     "metadata": {},
     "output_type": "execute_result"
    }
   ],
   "source": [
    "data.Electrical.value_counts()"
   ]
  },
  {
   "cell_type": "code",
   "execution_count": 953,
   "id": "43ae03e7",
   "metadata": {},
   "outputs": [],
   "source": [
    "#data.Electrical - Replacing nAn values with \"Sbrkr\"\n",
    "data.Electrical = data.Electrical.fillna('Sbrkr')"
   ]
  },
  {
   "cell_type": "code",
   "execution_count": 954,
   "id": "c3224750",
   "metadata": {},
   "outputs": [],
   "source": [
    "#11. data.FireplaceQu"
   ]
  },
  {
   "cell_type": "code",
   "execution_count": 955,
   "id": "a043d600",
   "metadata": {},
   "outputs": [
    {
     "data": {
      "text/plain": [
       "array([nan], dtype=object)"
      ]
     },
     "execution_count": 955,
     "metadata": {},
     "output_type": "execute_result"
    }
   ],
   "source": [
    "data[data.Fireplaces==0]['FireplaceQu'].unique()"
   ]
  },
  {
   "cell_type": "code",
   "execution_count": 956,
   "id": "ea33bd87",
   "metadata": {},
   "outputs": [],
   "source": [
    "#Observation : Wherever data.Fireplaces==0 the data under FireplaceQu is nAn. \n",
    "# So replacing nAn values under data.FireplaceQu with 'NA'\n",
    "data.FireplaceQu = data.FireplaceQu.fillna('NA')"
   ]
  },
  {
   "cell_type": "code",
   "execution_count": 957,
   "id": "40696638",
   "metadata": {},
   "outputs": [],
   "source": [
    "#12. data.GarageType\n",
    "#13. data.GarageYrBlt\n",
    "#14. data.GarageFinish\n",
    "#15. data.GarageQual\n",
    "#16. data.GarageCond"
   ]
  },
  {
   "cell_type": "code",
   "execution_count": 958,
   "id": "dd71230f",
   "metadata": {
    "scrolled": true
   },
   "outputs": [
    {
     "data": {
      "text/plain": [
       "array([nan], dtype=object)"
      ]
     },
     "execution_count": 958,
     "metadata": {},
     "output_type": "execute_result"
    }
   ],
   "source": [
    "data[data.GarageType.isna()]['GarageCond'].unique()"
   ]
  },
  {
   "cell_type": "code",
   "execution_count": 959,
   "id": "cf1901a0",
   "metadata": {},
   "outputs": [
    {
     "data": {
      "text/plain": [
       "array([nan], dtype=object)"
      ]
     },
     "execution_count": 959,
     "metadata": {},
     "output_type": "execute_result"
    }
   ],
   "source": [
    "data[data.GarageType.isna()]['GarageQual'].unique()"
   ]
  },
  {
   "cell_type": "code",
   "execution_count": 960,
   "id": "ee9275b6",
   "metadata": {},
   "outputs": [
    {
     "data": {
      "text/plain": [
       "array([nan], dtype=object)"
      ]
     },
     "execution_count": 960,
     "metadata": {},
     "output_type": "execute_result"
    }
   ],
   "source": [
    "data[data.GarageType.isna()]['GarageFinish'].unique()"
   ]
  },
  {
   "cell_type": "code",
   "execution_count": 961,
   "id": "2fd57cda",
   "metadata": {},
   "outputs": [
    {
     "data": {
      "text/plain": [
       "array([nan])"
      ]
     },
     "execution_count": 961,
     "metadata": {},
     "output_type": "execute_result"
    }
   ],
   "source": [
    "data[data.GarageType.isna()]['GarageYrBlt'].unique()"
   ]
  },
  {
   "cell_type": "code",
   "execution_count": 962,
   "id": "84eca1dc",
   "metadata": {},
   "outputs": [],
   "source": [
    "#Observation Wherever data.GarageType is NaN for such cases data.GarageYrBlt , data.GarageFinish, data.GarageQual , data.GarageCond\n",
    "#are also NaN indicating there is no garage present in that particular house. So for all these cases replacing NaN values with 'NA'\n",
    "data.GarageType = data.GarageType.fillna('NA')\n",
    "data.GarageYrBlt = data.GarageYrBlt.fillna('NA')\n",
    "data.GarageFinish = data.GarageFinish.fillna('NA')\n",
    "data.GarageQual = data.GarageQual.fillna('NA')\n",
    "data.GarageCond = data.GarageCond.fillna('NA')"
   ]
  },
  {
   "cell_type": "code",
   "execution_count": 963,
   "id": "952bbfc2",
   "metadata": {},
   "outputs": [],
   "source": [
    "#Assuming that garage is built either along with the house (Year mathcing with YrBuilt column) or with modification(Year matching with Remodelling year column)\n",
    "# Also presence of \"NA\" in this field may impede our analysis taking a decision to drop this column\n",
    "data = data.drop(columns = 'GarageYrBlt')"
   ]
  },
  {
   "cell_type": "code",
   "execution_count": 964,
   "id": "3c174928",
   "metadata": {},
   "outputs": [],
   "source": [
    "#17. data.PoolQC"
   ]
  },
  {
   "cell_type": "code",
   "execution_count": 965,
   "id": "318bd591",
   "metadata": {
    "scrolled": true
   },
   "outputs": [
    {
     "data": {
      "text/plain": [
       "Gd    3\n",
       "Ex    2\n",
       "Fa    2\n",
       "Name: PoolQC, dtype: int64"
      ]
     },
     "execution_count": 965,
     "metadata": {},
     "output_type": "execute_result"
    }
   ],
   "source": [
    "data.PoolQC.value_counts()"
   ]
  },
  {
   "cell_type": "code",
   "execution_count": 966,
   "id": "f0acd8c0",
   "metadata": {},
   "outputs": [],
   "source": [
    "#Replacing data.PoolQC NaN values with 'NA'\n",
    "data.PoolQC = data.PoolQC.fillna('NA')"
   ]
  },
  {
   "cell_type": "code",
   "execution_count": 967,
   "id": "924bfa8a",
   "metadata": {},
   "outputs": [],
   "source": [
    "#18. data.Fence"
   ]
  },
  {
   "cell_type": "code",
   "execution_count": 968,
   "id": "3f4db14f",
   "metadata": {},
   "outputs": [
    {
     "data": {
      "text/plain": [
       "MnPrv    157\n",
       "GdPrv     59\n",
       "GdWo      54\n",
       "MnWw      11\n",
       "Name: Fence, dtype: int64"
      ]
     },
     "execution_count": 968,
     "metadata": {},
     "output_type": "execute_result"
    }
   ],
   "source": [
    "data.Fence.value_counts()"
   ]
  },
  {
   "cell_type": "code",
   "execution_count": 969,
   "id": "7bab305d",
   "metadata": {},
   "outputs": [],
   "source": [
    "#Replacing data.Fence NaN values with 'NA'\n",
    "data.Fence = data.Fence.fillna('NA')"
   ]
  },
  {
   "cell_type": "code",
   "execution_count": 970,
   "id": "2e743663",
   "metadata": {},
   "outputs": [],
   "source": [
    "#19. data.MiscFeature"
   ]
  },
  {
   "cell_type": "code",
   "execution_count": 971,
   "id": "4881f1b6",
   "metadata": {},
   "outputs": [
    {
     "data": {
      "text/plain": [
       "array([nan, 'Shed', 'Gar2', 'Othr', 'TenC'], dtype=object)"
      ]
     },
     "execution_count": 971,
     "metadata": {},
     "output_type": "execute_result"
    }
   ],
   "source": [
    "data.MiscFeature.unique()"
   ]
  },
  {
   "cell_type": "code",
   "execution_count": 972,
   "id": "edb70305",
   "metadata": {},
   "outputs": [],
   "source": [
    "#Replacing data.MiscFeature NaN values with 'NA'\n",
    "data.MiscFeature = data.MiscFeature.fillna('NA')"
   ]
  },
  {
   "cell_type": "code",
   "execution_count": 973,
   "id": "7382f355",
   "metadata": {},
   "outputs": [
    {
     "data": {
      "text/plain": [
       "0.0"
      ]
     },
     "execution_count": 973,
     "metadata": {},
     "output_type": "execute_result"
    }
   ],
   "source": [
    "#Checking if all na values are targetted and taken care of ; 0 sum indicates there is no NaN value present\n",
    "data[data.isna()].sum().sum()"
   ]
  },
  {
   "cell_type": "code",
   "execution_count": 974,
   "id": "a52112d8",
   "metadata": {
    "scrolled": true
   },
   "outputs": [
    {
     "name": "stdout",
     "output_type": "stream",
     "text": [
      "[]\n"
     ]
    }
   ],
   "source": [
    "#Checking which coloumns have constant values throughout which then can be removed directly.\n",
    "templist = []\n",
    "for i in data.columns:\n",
    "    array = data[i].unique()\n",
    "    arraylen = len(array)\n",
    "    if arraylen == 1:\n",
    "        templist.append(i)\n",
    "\n",
    "print(templist)\n",
    "\n",
    "#Conclusion :  if templist is found blank then There are no coloums having constant values throughout"
   ]
  },
  {
   "cell_type": "code",
   "execution_count": 975,
   "id": "a616a48e",
   "metadata": {},
   "outputs": [],
   "source": [
    "#Dropping unwanted columns\n",
    "#ID is not required since it will not be useful in the model\n",
    "data = data.drop(columns = 'Id')"
   ]
  },
  {
   "cell_type": "code",
   "execution_count": 976,
   "id": "d6899df8",
   "metadata": {},
   "outputs": [],
   "source": [
    "#For 3 coloums containing years data, forming a derieved metrics which will be (present year) minus (year in column)\n",
    "# which will give a feel of how old the property is or how old did the recent activity happen\n",
    "# then we will treat these derieved columns as ordinal data\n",
    "from datetime import date\n",
    "todays_date = date.today()\n",
    "yr = int(todays_date.year)\n",
    "data['BuildingAge'] = yr - data['YearBuilt']\n",
    "\n",
    "data['RemodelingAge'] = yr - data['YearRemodAdd']\n",
    "\n",
    "data['YrSoldAge'] = yr - data['YrSold']\n",
    "data = data.drop(columns = ['YearBuilt','YearRemodAdd','YrSold'])"
   ]
  },
  {
   "cell_type": "code",
   "execution_count": 977,
   "id": "b787187e",
   "metadata": {},
   "outputs": [],
   "source": [
    "#Creating Dummy Variables for all the categorical data\n",
    "#MSSubClass has numeric data which is categoric in nature\n",
    "dummyframe = pd.get_dummies(data = data.MSSubClass , prefix = 'MSSubClass', prefix_sep = '_',drop_first = 'True')\n",
    "data = pd.concat([data,dummyframe],axis = 1)\n",
    "data=data.drop(columns = 'MSSubClass')"
   ]
  },
  {
   "cell_type": "code",
   "execution_count": 978,
   "id": "295615e5",
   "metadata": {},
   "outputs": [],
   "source": [
    "#Creating Dummy variables for all categorical variables with dtype as object\n",
    "for i in data.columns:\n",
    "    if data[i].dtype == 'O':\n",
    "        dummyframe = pd.get_dummies(data = data[i] , prefix = i, prefix_sep = '_',drop_first = 'True')\n",
    "        data = pd.concat([data,dummyframe],axis = 1)"
   ]
  },
  {
   "cell_type": "code",
   "execution_count": 979,
   "id": "413cda72",
   "metadata": {},
   "outputs": [],
   "source": [
    "#Dropping the columns whose dummy variables are created\n",
    "for i in data.columns:\n",
    "    if data[i].dtype == 'O':\n",
    "        data=data.drop(columns = i)"
   ]
  },
  {
   "cell_type": "code",
   "execution_count": 980,
   "id": "12f4b301",
   "metadata": {
    "scrolled": true
   },
   "outputs": [
    {
     "name": "stdout",
     "output_type": "stream",
     "text": [
      "<class 'pandas.core.frame.DataFrame'>\n",
      "RangeIndex: 1460 entries, 0 to 1459\n",
      "Columns: 272 entries, LotFrontage to SaleCondition_Partial\n",
      "dtypes: float64(1), int64(33), uint8(238)\n",
      "memory usage: 727.3 KB\n"
     ]
    }
   ],
   "source": [
    "data.info()"
   ]
  },
  {
   "cell_type": "code",
   "execution_count": 981,
   "id": "367a83bf",
   "metadata": {},
   "outputs": [],
   "source": [
    "#PERFORMING TRAIN TEST SPLIT\n",
    "from sklearn.model_selection import train_test_split\n",
    "#y = data.pop('SalePrice')\n",
    "#X = data\n",
    "data_train,data_test= train_test_split(data,train_size = 0.7 , random_state = 5)"
   ]
  },
  {
   "cell_type": "code",
   "execution_count": 982,
   "id": "c6e4679a",
   "metadata": {},
   "outputs": [],
   "source": [
    "#SCALING THE NUMERIC NON-CATEGORICAL FIELDS\n",
    "from sklearn.preprocessing import MinMaxScaler\n",
    "scaler = MinMaxScaler()"
   ]
  },
  {
   "cell_type": "code",
   "execution_count": 983,
   "id": "e3fe3938",
   "metadata": {
    "scrolled": true
   },
   "outputs": [],
   "source": [
    "#Performing Fit_Transform on training set\n",
    "data_train[['LotFrontage','LotArea','OverallQual','OverallCond','BsmtFinSF1','BsmtFinSF2','BsmtUnfSF','TotalBsmtSF','1stFlrSF','2ndFlrSF','LowQualFinSF','GrLivArea','BsmtFullBath','BsmtHalfBath','FullBath','HalfBath','TotRmsAbvGrd','Fireplaces','GarageCars','GarageArea','WoodDeckSF','OpenPorchSF','EnclosedPorch','3SsnPorch','ScreenPorch','PoolArea','MiscVal','MoSold','BuildingAge','RemodelingAge','YrSoldAge','SalePrice']] = scaler.fit_transform(data_train[['LotFrontage','LotArea','OverallQual','OverallCond','BsmtFinSF1','BsmtFinSF2','BsmtUnfSF','TotalBsmtSF','1stFlrSF','2ndFlrSF','LowQualFinSF','GrLivArea','BsmtFullBath','BsmtHalfBath','FullBath','HalfBath','TotRmsAbvGrd','Fireplaces','GarageCars','GarageArea','WoodDeckSF','OpenPorchSF','EnclosedPorch','3SsnPorch','ScreenPorch','PoolArea','MiscVal','MoSold','BuildingAge','RemodelingAge','YrSoldAge','SalePrice']])\n",
    "y_train = data_train.pop('SalePrice')\n",
    "X_train = data_train"
   ]
  },
  {
   "cell_type": "code",
   "execution_count": 984,
   "id": "220e9c0e",
   "metadata": {},
   "outputs": [],
   "source": [
    "#Performing Transform on test set\n",
    "data_test[['LotFrontage','LotArea','OverallQual','OverallCond','BsmtFinSF1','BsmtFinSF2','BsmtUnfSF','TotalBsmtSF','1stFlrSF','2ndFlrSF','LowQualFinSF','GrLivArea','BsmtFullBath','BsmtHalfBath','FullBath','HalfBath','TotRmsAbvGrd','Fireplaces','GarageCars','GarageArea','WoodDeckSF','OpenPorchSF','EnclosedPorch','3SsnPorch','ScreenPorch','PoolArea','MiscVal','MoSold','BuildingAge','RemodelingAge','YrSoldAge','SalePrice']] = scaler.transform(data_test[['LotFrontage','LotArea','OverallQual','OverallCond','BsmtFinSF1','BsmtFinSF2','BsmtUnfSF','TotalBsmtSF','1stFlrSF','2ndFlrSF','LowQualFinSF','GrLivArea','BsmtFullBath','BsmtHalfBath','FullBath','HalfBath','TotRmsAbvGrd','Fireplaces','GarageCars','GarageArea','WoodDeckSF','OpenPorchSF','EnclosedPorch','3SsnPorch','ScreenPorch','PoolArea','MiscVal','MoSold','BuildingAge','RemodelingAge','YrSoldAge','SalePrice']])\n",
    "y_test = data_test.pop('SalePrice')\n",
    "X_test = data_test"
   ]
  },
  {
   "cell_type": "code",
   "execution_count": 985,
   "id": "6a71791a",
   "metadata": {
    "scrolled": true
   },
   "outputs": [
    {
     "name": "stdout",
     "output_type": "stream",
     "text": [
      "Train r2 score for alpha value 0 = 0.9484198679509414\n",
      "Test r2 score for alpha value 0 = -5.26534826992971e+25\n",
      "Train r2 score for alpha value 0.001 = 0.9482230406215504\n",
      "Test r2 score for alpha value 0.001 = 0.781848211627943\n",
      "Train r2 score for alpha value 0.01 = 0.9467026438396517\n",
      "Test r2 score for alpha value 0.01 = 0.8223394185529405\n",
      "Train r2 score for alpha value 0.02 = 0.9451239089628619\n",
      "Test r2 score for alpha value 0.02 = 0.8247138868421001\n",
      "Train r2 score for alpha value 0.03 = 0.9436267223613428\n",
      "Test r2 score for alpha value 0.03 = 0.8250618663341869\n",
      "Train r2 score for alpha value 0.04 = 0.9423015776550301\n",
      "Test r2 score for alpha value 0.04 = 0.8248519889326156\n",
      "Train r2 score for alpha value 0.05 = 0.941145817401501\n",
      "Test r2 score for alpha value 0.05 = 0.8244744820993816\n",
      "Train r2 score for alpha value 0.06 = 0.9401358566820938\n",
      "Test r2 score for alpha value 0.06 = 0.8240643880785239\n",
      "Train r2 score for alpha value 0.1 = 0.9371116950735099\n",
      "Test r2 score for alpha value 0.1 = 0.8227162566649254\n",
      "Train r2 score for alpha value 1 = 0.9221466890484361\n",
      "Test r2 score for alpha value 1 = 0.8242830145362068\n",
      "Train r2 score for alpha value 10 = 0.8943670287756945\n",
      "Test r2 score for alpha value 10 = 0.8274154572426937\n",
      "Train r2 score for alpha value 20 = 0.8761358813334954\n",
      "Test r2 score for alpha value 20 = 0.8161483420813036\n",
      "Train r2 score for alpha value 30 = 0.8613469816580714\n",
      "Test r2 score for alpha value 30 = 0.8044611157237082\n",
      "Train r2 score for alpha value 40 = 0.8487550132515378\n",
      "Test r2 score for alpha value 40 = 0.7937934782438033\n",
      "Train r2 score for alpha value 50 = 0.8377609531167411\n",
      "Test r2 score for alpha value 50 = 0.7842449774937996\n",
      "Train r2 score for alpha value 60 = 0.8279914079249115\n",
      "Test r2 score for alpha value 60 = 0.7756919514783084\n",
      "Train r2 score for alpha value 70 = 0.8191908496716456\n",
      "Test r2 score for alpha value 70 = 0.7679842106635929\n",
      "Train r2 score for alpha value 80 = 0.8111751600497602\n",
      "Test r2 score for alpha value 80 = 0.7609868757625523\n",
      "Train r2 score for alpha value 90 = 0.8038069603988292\n",
      "Test r2 score for alpha value 90 = 0.7545872490537419\n",
      "Train r2 score for alpha value 100 = 0.7969810291064401\n",
      "Test r2 score for alpha value 100 = 0.7486931279568503\n",
      "Train r2 score for alpha value 1000 = 0.5703380789900994\n",
      "Test r2 score for alpha value 1000 = 0.5574368514820283\n"
     ]
    }
   ],
   "source": [
    "#RIDGE REGRESSION\n",
    "#CHECKING RESULTS FOR DIFFERENT LAMBDA VALUES\n",
    "\n",
    "from sklearn.linear_model import Ridge\n",
    "from sklearn.metrics import r2_score\n",
    "\n",
    "lambdas = [0, 0.001, 0.01,0.02,0.03,0.04,0.05,0.06, 0.1, 1, 10,20,30,40,50,60,70,80,90,100, 1000] \n",
    "for i in lambdas:\n",
    "    ridgereg = Ridge(alpha = i)\n",
    "    ridgereg.fit(X_train, y_train)\n",
    "    #Computing the r2 score\n",
    "    y_train_pred = ridgereg.predict(X_train)\n",
    "    print(\"Train r2 score for alpha value \" + str(i) + \" = \" + str(r2_score(y_train, y_train_pred))) \n",
    "    y_test_pred = ridgereg.predict(X_test)\n",
    "    print(\"Test r2 score for alpha value \" + str(i) + \" = \" + str(r2_score(y_test, y_test_pred))) "
   ]
  },
  {
   "cell_type": "code",
   "execution_count": 986,
   "id": "0f2ad98c",
   "metadata": {},
   "outputs": [],
   "source": [
    "#Selecting lambda coeffecient as 0.03 Rebuilding model since it has the best r2 score in test data as well as best r2 score in train data"
   ]
  },
  {
   "cell_type": "code",
   "execution_count": 987,
   "id": "f099d17f",
   "metadata": {},
   "outputs": [
    {
     "name": "stdout",
     "output_type": "stream",
     "text": [
      "Train r2 score for alpha value 0.02 = 0.9436267223613428\n",
      "Test r2 score for alpha value 0.02 = 0.8250618663341869\n"
     ]
    }
   ],
   "source": [
    "#REBUILDING REGRESSION MODEL WITH ALPHA AS 0.03\n",
    "\n",
    "ridgereg1 = Ridge(alpha = 0.03)\n",
    "ridgereg1.fit(X_train, y_train)\n",
    "\n",
    "#Computing the r2 score\n",
    "y_train_pred = ridgereg1.predict(X_train)\n",
    "print(\"Train r2 score for alpha value \" + str(0.02) + \" = \" + str(r2_score(y_train, y_train_pred))) \n",
    "\n",
    "y_test_pred = ridgereg1.predict(X_test)\n",
    "print(\"Test r2 score for alpha value \" + str(0.02) + \" = \" + str(r2_score(y_test, y_test_pred)))"
   ]
  },
  {
   "cell_type": "code",
   "execution_count": 988,
   "id": "85f6b56e",
   "metadata": {},
   "outputs": [
    {
     "data": {
      "text/html": [
       "<div>\n",
       "<style scoped>\n",
       "    .dataframe tbody tr th:only-of-type {\n",
       "        vertical-align: middle;\n",
       "    }\n",
       "\n",
       "    .dataframe tbody tr th {\n",
       "        vertical-align: top;\n",
       "    }\n",
       "\n",
       "    .dataframe thead th {\n",
       "        text-align: right;\n",
       "    }\n",
       "</style>\n",
       "<table border=\"1\" class=\"dataframe\">\n",
       "  <thead>\n",
       "    <tr style=\"text-align: right;\">\n",
       "      <th></th>\n",
       "      <th>features</th>\n",
       "      <th>coeffecient</th>\n",
       "      <th>abscoeff</th>\n",
       "    </tr>\n",
       "  </thead>\n",
       "  <tbody>\n",
       "    <tr>\n",
       "      <th>123</th>\n",
       "      <td>RoofMatl_Membran</td>\n",
       "      <td>0.559590</td>\n",
       "      <td>0.559590</td>\n",
       "    </tr>\n",
       "    <tr>\n",
       "      <th>128</th>\n",
       "      <td>RoofMatl_WdShngl</td>\n",
       "      <td>0.526448</td>\n",
       "      <td>0.526448</td>\n",
       "    </tr>\n",
       "    <tr>\n",
       "      <th>124</th>\n",
       "      <td>RoofMatl_Metal</td>\n",
       "      <td>0.506046</td>\n",
       "      <td>0.506046</td>\n",
       "    </tr>\n",
       "    <tr>\n",
       "      <th>122</th>\n",
       "      <td>RoofMatl_CompShg</td>\n",
       "      <td>0.480649</td>\n",
       "      <td>0.480649</td>\n",
       "    </tr>\n",
       "    <tr>\n",
       "      <th>127</th>\n",
       "      <td>RoofMatl_WdShake</td>\n",
       "      <td>0.469102</td>\n",
       "      <td>0.469102</td>\n",
       "    </tr>\n",
       "    <tr>\n",
       "      <th>27</th>\n",
       "      <td>PoolArea</td>\n",
       "      <td>0.464712</td>\n",
       "      <td>0.464712</td>\n",
       "    </tr>\n",
       "    <tr>\n",
       "      <th>125</th>\n",
       "      <td>RoofMatl_Roll</td>\n",
       "      <td>0.454661</td>\n",
       "      <td>0.454661</td>\n",
       "    </tr>\n",
       "    <tr>\n",
       "      <th>126</th>\n",
       "      <td>RoofMatl_Tar&amp;Grv</td>\n",
       "      <td>0.449930</td>\n",
       "      <td>0.449930</td>\n",
       "    </tr>\n",
       "    <tr>\n",
       "      <th>248</th>\n",
       "      <td>PoolQC_Gd</td>\n",
       "      <td>-0.329532</td>\n",
       "      <td>0.329532</td>\n",
       "    </tr>\n",
       "    <tr>\n",
       "      <th>247</th>\n",
       "      <td>PoolQC_Fa</td>\n",
       "      <td>-0.269877</td>\n",
       "      <td>0.269877</td>\n",
       "    </tr>\n",
       "  </tbody>\n",
       "</table>\n",
       "</div>"
      ],
      "text/plain": [
       "             features  coeffecient  abscoeff\n",
       "123  RoofMatl_Membran     0.559590  0.559590\n",
       "128  RoofMatl_WdShngl     0.526448  0.526448\n",
       "124    RoofMatl_Metal     0.506046  0.506046\n",
       "122  RoofMatl_CompShg     0.480649  0.480649\n",
       "127  RoofMatl_WdShake     0.469102  0.469102\n",
       "27           PoolArea     0.464712  0.464712\n",
       "125     RoofMatl_Roll     0.454661  0.454661\n",
       "126  RoofMatl_Tar&Grv     0.449930  0.449930\n",
       "248         PoolQC_Gd    -0.329532  0.329532\n",
       "247         PoolQC_Fa    -0.269877  0.269877"
      ]
     },
     "execution_count": 988,
     "metadata": {},
     "output_type": "execute_result"
    }
   ],
   "source": [
    "#COMPUTING THE TOP GUIDING FEATURES\n",
    "ridgecoeff = pd.DataFrame()\n",
    "ridgecoeff['features'] = X_train.columns\n",
    "ridgecoeff['coeffecient'] = ridgereg1.coef_\n",
    "ridgecoeff['abscoeff'] = abs(ridgereg1.coef_)\n",
    "ridgecoeff = ridgecoeff.sort_values(by='abscoeff',ascending=False)\n",
    "ridgecoeff.head(10)"
   ]
  },
  {
   "cell_type": "code",
   "execution_count": 989,
   "id": "e92f8932",
   "metadata": {
    "scrolled": true
   },
   "outputs": [
    {
     "name": "stderr",
     "output_type": "stream",
     "text": [
      "C:\\Users\\Akhilesh Choudhari\\AppData\\Local\\Temp\\ipykernel_16076\\3432372484.py:9: UserWarning: With alpha=0, this algorithm does not converge well. You are advised to use the LinearRegression estimator\n",
      "  lassoreg.fit(X_train, y_train)\n",
      "D:\\Siddharth_Python\\lib\\site-packages\\sklearn\\linear_model\\_coordinate_descent.py:647: UserWarning: Coordinate descent with no regularization may lead to unexpected results and is discouraged.\n",
      "  model = cd_fast.enet_coordinate_descent(\n",
      "D:\\Siddharth_Python\\lib\\site-packages\\sklearn\\linear_model\\_coordinate_descent.py:647: ConvergenceWarning: Objective did not converge. You might want to increase the number of iterations, check the scale of the features or consider increasing regularisation. Duality gap: 3.475e-01, tolerance: 1.334e-03 Linear regression models with null weight for the l1 regularization term are more efficiently fitted using one of the solvers implemented in sklearn.linear_model.Ridge/RidgeCV instead.\n",
      "  model = cd_fast.enet_coordinate_descent(\n"
     ]
    },
    {
     "name": "stdout",
     "output_type": "stream",
     "text": [
      "Train r2 score for alpha value 0 = 0.9478942995439391\n",
      "Test r2 score for alpha value 0 = 0.7876204154936381\n",
      "Train r2 score for alpha value 0.0001 = 0.9124423924165658\n",
      "Test r2 score for alpha value 0.0001 = 0.8285930683556282\n"
     ]
    },
    {
     "name": "stderr",
     "output_type": "stream",
     "text": [
      "D:\\Siddharth_Python\\lib\\site-packages\\sklearn\\linear_model\\_coordinate_descent.py:647: ConvergenceWarning: Objective did not converge. You might want to increase the number of iterations, check the scale of the features or consider increasing regularisation. Duality gap: 1.367e-03, tolerance: 1.334e-03\n",
      "  model = cd_fast.enet_coordinate_descent(\n",
      "D:\\Siddharth_Python\\lib\\site-packages\\sklearn\\linear_model\\_coordinate_descent.py:647: ConvergenceWarning: Objective did not converge. You might want to increase the number of iterations, check the scale of the features or consider increasing regularisation. Duality gap: 1.773e-03, tolerance: 1.334e-03\n",
      "  model = cd_fast.enet_coordinate_descent(\n"
     ]
    },
    {
     "name": "stdout",
     "output_type": "stream",
     "text": [
      "Train r2 score for alpha value 1e-05 = 0.9434445807145405\n",
      "Test r2 score for alpha value 1e-05 = 0.831486924552079\n",
      "Train r2 score for alpha value 2e-05 = 0.9373047055641524\n",
      "Test r2 score for alpha value 2e-05 = 0.8310286622875408\n"
     ]
    },
    {
     "name": "stderr",
     "output_type": "stream",
     "text": [
      "D:\\Siddharth_Python\\lib\\site-packages\\sklearn\\linear_model\\_coordinate_descent.py:647: ConvergenceWarning: Objective did not converge. You might want to increase the number of iterations, check the scale of the features or consider increasing regularisation. Duality gap: 1.760e-01, tolerance: 1.334e-03\n",
      "  model = cd_fast.enet_coordinate_descent(\n"
     ]
    },
    {
     "name": "stdout",
     "output_type": "stream",
     "text": [
      "Train r2 score for alpha value 1e-06 = 0.9477331886612639\n",
      "Test r2 score for alpha value 1e-06 = 0.8025465425154522\n",
      "Train r2 score for alpha value 0.001 = 0.8329678723330138\n",
      "Test r2 score for alpha value 0.001 = 0.7997568628442473\n",
      "Train r2 score for alpha value 0.01 = 0.468354863750183\n",
      "Test r2 score for alpha value 0.01 = 0.4807811950384868\n",
      "Train r2 score for alpha value 0.02 = 0.2660478837950421\n",
      "Test r2 score for alpha value 0.02 = 0.2806130108598256\n",
      "Train r2 score for alpha value 0.03 = 0.048283114646830994\n",
      "Test r2 score for alpha value 0.03 = 0.05273083226842623\n",
      "Train r2 score for alpha value 0.04 = 0.0\n",
      "Test r2 score for alpha value 0.04 = -0.0009716501146774803\n",
      "Train r2 score for alpha value 0.05 = 0.0\n",
      "Test r2 score for alpha value 0.05 = -0.0009716501146774803\n",
      "Train r2 score for alpha value 0.1 = 0.0\n",
      "Test r2 score for alpha value 0.1 = -0.0009716501146774803\n",
      "Train r2 score for alpha value 1 = 0.0\n",
      "Test r2 score for alpha value 1 = -0.0009716501146774803\n",
      "Train r2 score for alpha value 10 = 0.0\n",
      "Test r2 score for alpha value 10 = -0.0009716501146774803\n",
      "Train r2 score for alpha value 20 = 0.0\n",
      "Test r2 score for alpha value 20 = -0.0009716501146774803\n",
      "Train r2 score for alpha value 30 = 0.0\n",
      "Test r2 score for alpha value 30 = -0.0009716501146774803\n",
      "Train r2 score for alpha value 40 = 0.0\n",
      "Test r2 score for alpha value 40 = -0.0009716501146774803\n",
      "Train r2 score for alpha value 50 = 0.0\n",
      "Test r2 score for alpha value 50 = -0.0009716501146774803\n",
      "Train r2 score for alpha value 60 = 0.0\n",
      "Test r2 score for alpha value 60 = -0.0009716501146774803\n",
      "Train r2 score for alpha value 70 = 0.0\n",
      "Test r2 score for alpha value 70 = -0.0009716501146774803\n",
      "Train r2 score for alpha value 80 = 0.0\n",
      "Test r2 score for alpha value 80 = -0.0009716501146774803\n",
      "Train r2 score for alpha value 90 = 0.0\n",
      "Test r2 score for alpha value 90 = -0.0009716501146774803\n",
      "Train r2 score for alpha value 100 = 0.0\n",
      "Test r2 score for alpha value 100 = -0.0009716501146774803\n",
      "Train r2 score for alpha value 1000 = 0.0\n",
      "Test r2 score for alpha value 1000 = -0.0009716501146774803\n"
     ]
    }
   ],
   "source": [
    "#LASSO REGRESSION\n",
    "#CHECKING RESULTS FOR DIFFERENT LAMBDA VALUES\n",
    "\n",
    "from sklearn.linear_model import Lasso\n",
    "\n",
    "lambdas = [0,0.0001,0.00001,0.00002,0.000001, 0.001, 0.01,0.02,0.03,0.04,0.05, 0.1, 1, 10,20,30,40,50,60,70,80,90,100, 1000] \n",
    "for i in lambdas:\n",
    "    lassoreg = Lasso(alpha = i)\n",
    "    lassoreg.fit(X_train, y_train)\n",
    "    #Computing the r2 score\n",
    "    y_train_pred_lasso = lassoreg.predict(X_train)\n",
    "    print(\"Train r2 score for alpha value \" + str(i) + \" = \" + str(r2_score(y_train, y_train_pred_lasso))) \n",
    "    y_test_pred_lasso = lassoreg.predict(X_test)\n",
    "    print(\"Test r2 score for alpha value \" + str(i) + \" = \" + str(r2_score(y_test, y_test_pred_lasso))) "
   ]
  },
  {
   "cell_type": "code",
   "execution_count": 990,
   "id": "7a90a82c",
   "metadata": {},
   "outputs": [],
   "source": [
    "#Selecting lambda coeffecient as 0.00001 Rebuilding model since it has the best r2 score in test data as well as best r2 score in train data"
   ]
  },
  {
   "cell_type": "code",
   "execution_count": 991,
   "id": "c0f2fa35",
   "metadata": {},
   "outputs": [
    {
     "name": "stdout",
     "output_type": "stream",
     "text": [
      "Train r2 score for alpha value 1e-05 = 0.9434445807145405\n",
      "Test r2 score for alpha value 1e-05 = 0.831486924552079\n"
     ]
    },
    {
     "name": "stderr",
     "output_type": "stream",
     "text": [
      "D:\\Siddharth_Python\\lib\\site-packages\\sklearn\\linear_model\\_coordinate_descent.py:647: ConvergenceWarning: Objective did not converge. You might want to increase the number of iterations, check the scale of the features or consider increasing regularisation. Duality gap: 1.367e-03, tolerance: 1.334e-03\n",
      "  model = cd_fast.enet_coordinate_descent(\n"
     ]
    }
   ],
   "source": [
    "lassoreg1 = Lasso(alpha = 0.00001)\n",
    "lassoreg1.fit(X_train, y_train)\n",
    "\n",
    "#Computing the r2 score\n",
    "y_train_pred_lasso = lassoreg1.predict(X_train)\n",
    "print(\"Train r2 score for alpha value \" + str(0.00001) + \" = \" + str(r2_score(y_train, y_train_pred_lasso))) \n",
    "\n",
    "y_test_pred_lasso = lassoreg1.predict(X_test)\n",
    "print(\"Test r2 score for alpha value \" + str(0.00001) + \" = \" + str(r2_score(y_test, y_test_pred_lasso)))"
   ]
  },
  {
   "cell_type": "code",
   "execution_count": 992,
   "id": "df1b94d1",
   "metadata": {
    "scrolled": false
   },
   "outputs": [
    {
     "data": {
      "text/html": [
       "<div>\n",
       "<style scoped>\n",
       "    .dataframe tbody tr th:only-of-type {\n",
       "        vertical-align: middle;\n",
       "    }\n",
       "\n",
       "    .dataframe tbody tr th {\n",
       "        vertical-align: top;\n",
       "    }\n",
       "\n",
       "    .dataframe thead th {\n",
       "        text-align: right;\n",
       "    }\n",
       "</style>\n",
       "<table border=\"1\" class=\"dataframe\">\n",
       "  <thead>\n",
       "    <tr style=\"text-align: right;\">\n",
       "      <th></th>\n",
       "      <th>features</th>\n",
       "      <th>coeffecient</th>\n",
       "      <th>abscoeff</th>\n",
       "    </tr>\n",
       "  </thead>\n",
       "  <tbody>\n",
       "    <tr>\n",
       "      <th>123</th>\n",
       "      <td>RoofMatl_Membran</td>\n",
       "      <td>0.739564</td>\n",
       "      <td>0.739564</td>\n",
       "    </tr>\n",
       "    <tr>\n",
       "      <th>128</th>\n",
       "      <td>RoofMatl_WdShngl</td>\n",
       "      <td>0.713939</td>\n",
       "      <td>0.713939</td>\n",
       "    </tr>\n",
       "    <tr>\n",
       "      <th>124</th>\n",
       "      <td>RoofMatl_Metal</td>\n",
       "      <td>0.690531</td>\n",
       "      <td>0.690531</td>\n",
       "    </tr>\n",
       "    <tr>\n",
       "      <th>122</th>\n",
       "      <td>RoofMatl_CompShg</td>\n",
       "      <td>0.646793</td>\n",
       "      <td>0.646793</td>\n",
       "    </tr>\n",
       "    <tr>\n",
       "      <th>127</th>\n",
       "      <td>RoofMatl_WdShake</td>\n",
       "      <td>0.646268</td>\n",
       "      <td>0.646268</td>\n",
       "    </tr>\n",
       "    <tr>\n",
       "      <th>125</th>\n",
       "      <td>RoofMatl_Roll</td>\n",
       "      <td>0.632316</td>\n",
       "      <td>0.632316</td>\n",
       "    </tr>\n",
       "    <tr>\n",
       "      <th>126</th>\n",
       "      <td>RoofMatl_Tar&amp;Grv</td>\n",
       "      <td>0.625799</td>\n",
       "      <td>0.625799</td>\n",
       "    </tr>\n",
       "    <tr>\n",
       "      <th>27</th>\n",
       "      <td>PoolArea</td>\n",
       "      <td>0.242491</td>\n",
       "      <td>0.242491</td>\n",
       "    </tr>\n",
       "    <tr>\n",
       "      <th>248</th>\n",
       "      <td>PoolQC_Gd</td>\n",
       "      <td>-0.241040</td>\n",
       "      <td>0.241040</td>\n",
       "    </tr>\n",
       "    <tr>\n",
       "      <th>247</th>\n",
       "      <td>PoolQC_Fa</td>\n",
       "      <td>-0.213593</td>\n",
       "      <td>0.213593</td>\n",
       "    </tr>\n",
       "  </tbody>\n",
       "</table>\n",
       "</div>"
      ],
      "text/plain": [
       "             features  coeffecient  abscoeff\n",
       "123  RoofMatl_Membran     0.739564  0.739564\n",
       "128  RoofMatl_WdShngl     0.713939  0.713939\n",
       "124    RoofMatl_Metal     0.690531  0.690531\n",
       "122  RoofMatl_CompShg     0.646793  0.646793\n",
       "127  RoofMatl_WdShake     0.646268  0.646268\n",
       "125     RoofMatl_Roll     0.632316  0.632316\n",
       "126  RoofMatl_Tar&Grv     0.625799  0.625799\n",
       "27           PoolArea     0.242491  0.242491\n",
       "248         PoolQC_Gd    -0.241040  0.241040\n",
       "247         PoolQC_Fa    -0.213593  0.213593"
      ]
     },
     "execution_count": 992,
     "metadata": {},
     "output_type": "execute_result"
    }
   ],
   "source": [
    "#COMPUTING THE TOP GUIDING FEATURES\n",
    "lassocoef = pd.DataFrame()\n",
    "lassocoef['features'] = X_train.columns\n",
    "lassocoef['coeffecient'] = lassoreg1.coef_\n",
    "lassocoef['abscoeff'] = abs(lassoreg1.coef_)\n",
    "lassocoef = lassocoef.sort_values(by='abscoeff',ascending=False)\n",
    "lassocoef.head(10)"
   ]
  },
  {
   "cell_type": "code",
   "execution_count": null,
   "id": "d9cb61e9",
   "metadata": {},
   "outputs": [],
   "source": []
  }
 ],
 "metadata": {
  "kernelspec": {
   "display_name": "Python 3 (ipykernel)",
   "language": "python",
   "name": "python3"
  },
  "language_info": {
   "codemirror_mode": {
    "name": "ipython",
    "version": 3
   },
   "file_extension": ".py",
   "mimetype": "text/x-python",
   "name": "python",
   "nbconvert_exporter": "python",
   "pygments_lexer": "ipython3",
   "version": "3.9.12"
  }
 },
 "nbformat": 4,
 "nbformat_minor": 5
}
